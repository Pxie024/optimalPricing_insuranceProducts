{
 "cells": [
  {
   "cell_type": "code",
   "execution_count": 1,
   "id": "a1c65bd1-0885-4e8c-8e5d-72499fce8aac",
   "metadata": {},
   "outputs": [],
   "source": [
    "import numpy as np\n",
    "from gurobipy import *\n",
    "import pandas as pd\n",
    "from numpy.random import binomial, uniform\n",
    "from random import sample\n",
    "from itertools import combinations"
   ]
  },
  {
   "cell_type": "code",
   "execution_count": 2,
   "id": "18699563-1a83-4a00-a83e-bf06bbf03096",
   "metadata": {},
   "outputs": [],
   "source": [
    "sample_size = 200 #marketsize\n",
    "products = ['A','B','C']  #A: base coverage; B:intermediate coverage; C: premium coverage\n",
    "sensitivity = {'A':0.6, 'B':0.4, 'C':0.2} #people are more sensitive toward the base plan\n",
    "scenarios_1 = ['s_11', 's_12', 's_13', 's_14'] #stage 1 scenarios, 4 in total\n",
    "rv_1 = {'s_11':0.02, 's_12':0.5, 's_13':0.1, 's_14':0.15}\n",
    "scenarios_2 = ['s_21', 's_22', 's_23'] #stage 2 scenarios, corresponds to bad, average, good. \n",
    "accident_type = ['small', 'medium', 'large'] #types of accidents\n",
    "acc_rates = {'s_21':[0.45,0.3,0.1],  #bad weather\n",
    "             's_22':[0.4,0.2,0.05],  #average weather\n",
    "             's_23':[0.35,0.15,0.02]} #good weather\n",
    "\n",
    "acc_cost = {'A': {'small':100, 'medium':1000, 'large':3000},\n",
    "            'B': {'small':300, 'medium':1500, 'large':4000},\n",
    "            'C': {'small':500, 'medium':2500, 'large':5000}}  #cost to claim each accident\n",
    "\n",
    "prob_1 = {'s_11':0.25, 's_12':0.25,'s_13': 0.25, 's_14':0.25}\n",
    "prob_2 = {'s_21':0.2, 's_22':0.6, 's_23':0.2}\n",
    "\n",
    "price_options = {'p1':50, 'p2':100, 'p3':150, 'p4':200, 'p5':250, 'p6':300,\n",
    "                 'p7':350, 'p8':400, 'p9':450, 'p10':500, 'p11':550, 'p12':600}  #all price options\n",
    "\n",
    "price_comb = list(combinations(price_options, 3))\n",
    "\n",
    "np.random.seed(1612)"
   ]
  },
  {
   "cell_type": "code",
   "execution_count": 3,
   "id": "fe8d6e91-eae5-47bb-b071-f01f6ab34441",
   "metadata": {},
   "outputs": [],
   "source": [
    "def demand_func(price, marketsize, price_sense, random_var):\n",
    "    dem = marketsize - price_sense*price + random_var*marketsize\n",
    "    if dem <= 0:\n",
    "        return 0\n",
    "    if dem >= marketsize:\n",
    "        return marketsize\n",
    "    else:\n",
    "        return dem\n",
    "    \n",
    "    \n",
    "def demand_sim(dem, marketsize):\n",
    "    prob = dem / marketsize\n",
    "    return binomial(1, prob, marketsize)\n",
    "\n",
    "\n",
    "\n",
    "def accident_sim(prob, n_customers):\n",
    "    p_s, p_m, p_l = prob[0], prob[1], prob[2]\n",
    "    alpha_s = binomial(3, p_s, n_customers)\n",
    "    alpha_m = binomial(3, p_m, n_customers)\n",
    "    alpha_l = binomial(3, p_l, n_customers)\n",
    "    return alpha_s, alpha_m, alpha_l"
   ]
  },
  {
   "cell_type": "code",
   "execution_count": 4,
   "id": "03340ac8-bddd-4db1-be05-b0ff8235bd44",
   "metadata": {},
   "outputs": [],
   "source": [
    "demands = {}\n",
    "for s1 in scenarios_1:\n",
    "    for pc in price_comb:\n",
    "        if (price_options[pc[0]]<price_options[pc[1]]) and (price_options[pc[1]]<price_options[pc[2]]):\n",
    "            dem_A = demand_func(price_options[pc[0]], sample_size, sensitivity['A'], rv_1[s1])\n",
    "            dem_B = demand_func(price_options[pc[1]], sample_size, sensitivity['B'], rv_1[s1])\n",
    "            dem_C = demand_func(price_options[pc[2]], sample_size, sensitivity['C'], rv_1[s1])\n",
    "\n",
    "            demand_A = demand_sim(dem_A, sample_size)\n",
    "            demand_B = demand_sim(dem_B, sample_size)\n",
    "            demand_C = demand_sim(dem_C, sample_size)\n",
    "            \n",
    "            dm_s1_pc = {'A': demand_A, 'B': demand_B, 'C':demand_C}\n",
    "            demands[(pc,s1)] = pd.DataFrame(dm_s1_pc)"
   ]
  },
  {
   "cell_type": "code",
   "execution_count": 5,
   "id": "787bda7a",
   "metadata": {},
   "outputs": [
    {
     "data": {
      "text/html": [
       "<div>\n",
       "<style scoped>\n",
       "    .dataframe tbody tr th:only-of-type {\n",
       "        vertical-align: middle;\n",
       "    }\n",
       "\n",
       "    .dataframe tbody tr th {\n",
       "        vertical-align: top;\n",
       "    }\n",
       "\n",
       "    .dataframe thead th {\n",
       "        text-align: right;\n",
       "    }\n",
       "</style>\n",
       "<table border=\"1\" class=\"dataframe\">\n",
       "  <thead>\n",
       "    <tr style=\"text-align: right;\">\n",
       "      <th></th>\n",
       "      <th>A</th>\n",
       "      <th>B</th>\n",
       "      <th>C</th>\n",
       "    </tr>\n",
       "  </thead>\n",
       "  <tbody>\n",
       "    <tr>\n",
       "      <th>0</th>\n",
       "      <td>1</td>\n",
       "      <td>0</td>\n",
       "      <td>1</td>\n",
       "    </tr>\n",
       "    <tr>\n",
       "      <th>1</th>\n",
       "      <td>0</td>\n",
       "      <td>0</td>\n",
       "      <td>0</td>\n",
       "    </tr>\n",
       "    <tr>\n",
       "      <th>2</th>\n",
       "      <td>1</td>\n",
       "      <td>0</td>\n",
       "      <td>0</td>\n",
       "    </tr>\n",
       "    <tr>\n",
       "      <th>3</th>\n",
       "      <td>0</td>\n",
       "      <td>0</td>\n",
       "      <td>1</td>\n",
       "    </tr>\n",
       "    <tr>\n",
       "      <th>4</th>\n",
       "      <td>1</td>\n",
       "      <td>0</td>\n",
       "      <td>0</td>\n",
       "    </tr>\n",
       "    <tr>\n",
       "      <th>...</th>\n",
       "      <td>...</td>\n",
       "      <td>...</td>\n",
       "      <td>...</td>\n",
       "    </tr>\n",
       "    <tr>\n",
       "      <th>195</th>\n",
       "      <td>1</td>\n",
       "      <td>1</td>\n",
       "      <td>0</td>\n",
       "    </tr>\n",
       "    <tr>\n",
       "      <th>196</th>\n",
       "      <td>1</td>\n",
       "      <td>0</td>\n",
       "      <td>0</td>\n",
       "    </tr>\n",
       "    <tr>\n",
       "      <th>197</th>\n",
       "      <td>1</td>\n",
       "      <td>0</td>\n",
       "      <td>1</td>\n",
       "    </tr>\n",
       "    <tr>\n",
       "      <th>198</th>\n",
       "      <td>1</td>\n",
       "      <td>0</td>\n",
       "      <td>0</td>\n",
       "    </tr>\n",
       "    <tr>\n",
       "      <th>199</th>\n",
       "      <td>0</td>\n",
       "      <td>0</td>\n",
       "      <td>1</td>\n",
       "    </tr>\n",
       "  </tbody>\n",
       "</table>\n",
       "<p>200 rows × 3 columns</p>\n",
       "</div>"
      ],
      "text/plain": [
       "     A  B  C\n",
       "0    1  0  1\n",
       "1    0  0  0\n",
       "2    1  0  0\n",
       "3    0  0  1\n",
       "4    1  0  0\n",
       "..  .. .. ..\n",
       "195  1  1  0\n",
       "196  1  0  0\n",
       "197  1  0  1\n",
       "198  1  0  0\n",
       "199  0  0  1\n",
       "\n",
       "[200 rows x 3 columns]"
      ]
     },
     "execution_count": 5,
     "metadata": {},
     "output_type": "execute_result"
    }
   ],
   "source": [
    "demands[(('p2', 'p8', 'p11'),\n",
    "  's_13')]"
   ]
  },
  {
   "cell_type": "code",
   "execution_count": 6,
   "id": "6a70fb3d-ac87-417c-8e31-77f4f876cf99",
   "metadata": {},
   "outputs": [],
   "source": [
    "# simulate accidents \n",
    "accidents = {}\n",
    "for s2 in scenarios_2:\n",
    "    accidents_s = {}\n",
    "    acc_prob = acc_rates[s2]\n",
    "    accidents_s['small'], accidents_s['medium'], accidents_s['large'] = accident_sim(acc_prob, sample_size)\n",
    "    accidents[s2] = pd.DataFrame(accidents_s)\n",
    "        "
   ]
  },
  {
   "cell_type": "code",
   "execution_count": 7,
   "id": "8fdbe266-1279-4f83-ba12-72a5f5279c92",
   "metadata": {},
   "outputs": [],
   "source": [
    "# model implementation \n",
    "m = Model('OptimalPricing')\n",
    "\n",
    "x = m.addVars(products, price_options, lb=0, ub=1, vtype=GRB.BINARY, name='x')\n",
    "y = m.addVars(range(sample_size), products, scenarios_1, price_comb, vtype=GRB.BINARY, name='y')\n",
    "price = m.addVars(products, lb=0, vtype=GRB.CONTINUOUS, name='p')\n",
    "\n",
    "m.setObjective(quicksum(quicksum(prob_1[s1] * (quicksum(quicksum(price[j] * y[i,j,s1,pc[0],pc[1],pc[2]] for j in products) for i in range(sample_size)) - \n",
    "                                                                               quicksum(prob_2[s2] * (quicksum(quicksum(quicksum(accidents[s2].loc[i,a] * \n",
    "                                                                               y[i,j,s1,pc[0],pc[1],pc[2]] * acc_cost[j][a] for j in products) for i in range(sample_size)) \n",
    "                                                                              for a in accident_type)) for s2 in scenarios_2)) \n",
    "                                                                                 for s1 in scenarios_1) for pc in price_comb), GRB.MAXIMIZE)\n",
    "\n",
    "\n"
   ]
  },
  {
   "cell_type": "code",
   "execution_count": 8,
   "id": "08aa5fb3-a155-490b-9a0d-151a6547f5cf",
   "metadata": {},
   "outputs": [],
   "source": [
    "# adding constraints \n",
    "m.addConstrs((price[j] == quicksum(price_options[p] * x[j,p] for p in price_options) for j in products))\n",
    "m.addConstr(price['A'] <= price['B'])\n",
    "m.addConstr(price['B'] <= price['C'])\n",
    "m.addConstrs(((quicksum(x[j,p] for p in price_options) == 1) for j in products), 'onePriceOffer')\n",
    "for s1 in scenarios_1:\n",
    "    for i in range(sample_size):\n",
    "        for pc in price_comb:\n",
    "            m.addConstrs((y[i,j,s1,pc[0],pc[1],pc[2]] <= demands[(pc,s1)].loc[i,j] for j in products), 'demand-supply')\n",
    "            m.addConstrs((3*y[i,j,s1,pc[0],pc[1],pc[2]] <= x['A',pc[0]]+x['B',pc[1]]+x['C',pc[2]] for j in products), 'offer-supply')\n",
    "            m.addConstr((quicksum(y[i,j,s1,pc[0],pc[1],pc[2]] for j in products) <= 1))\n",
    "        "
   ]
  },
  {
   "cell_type": "code",
   "execution_count": 9,
   "id": "428b856e-93bc-45a0-a0f5-6af8902d0cb6",
   "metadata": {},
   "outputs": [],
   "source": [
    "m.Params.logtoconsole = 0\n",
    "m.optimize()\n"
   ]
  },
  {
   "cell_type": "code",
   "execution_count": 10,
   "id": "80ecbcd2-56d4-4a4c-ab7a-4ee7acb2c8a5",
   "metadata": {},
   "outputs": [
    {
     "data": {
      "text/plain": [
       "{('A', 'p1'): <gurobi.Var x[A,p1] (value -0.0)>,\n",
       " ('A', 'p2'): <gurobi.Var x[A,p2] (value -0.0)>,\n",
       " ('A', 'p3'): <gurobi.Var x[A,p3] (value -0.0)>,\n",
       " ('A', 'p4'): <gurobi.Var x[A,p4] (value -0.0)>,\n",
       " ('A', 'p5'): <gurobi.Var x[A,p5] (value -0.0)>,\n",
       " ('A', 'p6'): <gurobi.Var x[A,p6] (value 1.0)>,\n",
       " ('A', 'p7'): <gurobi.Var x[A,p7] (value -0.0)>,\n",
       " ('A', 'p8'): <gurobi.Var x[A,p8] (value -0.0)>,\n",
       " ('A', 'p9'): <gurobi.Var x[A,p9] (value -0.0)>,\n",
       " ('A', 'p10'): <gurobi.Var x[A,p10] (value -0.0)>,\n",
       " ('A', 'p11'): <gurobi.Var x[A,p11] (value -0.0)>,\n",
       " ('A', 'p12'): <gurobi.Var x[A,p12] (value -0.0)>,\n",
       " ('B', 'p1'): <gurobi.Var x[B,p1] (value 0.0)>,\n",
       " ('B', 'p2'): <gurobi.Var x[B,p2] (value -0.0)>,\n",
       " ('B', 'p3'): <gurobi.Var x[B,p3] (value -0.0)>,\n",
       " ('B', 'p4'): <gurobi.Var x[B,p4] (value -0.0)>,\n",
       " ('B', 'p5'): <gurobi.Var x[B,p5] (value -0.0)>,\n",
       " ('B', 'p6'): <gurobi.Var x[B,p6] (value -0.0)>,\n",
       " ('B', 'p7'): <gurobi.Var x[B,p7] (value -0.0)>,\n",
       " ('B', 'p8'): <gurobi.Var x[B,p8] (value -0.0)>,\n",
       " ('B', 'p9'): <gurobi.Var x[B,p9] (value -0.0)>,\n",
       " ('B', 'p10'): <gurobi.Var x[B,p10] (value 1.0)>,\n",
       " ('B', 'p11'): <gurobi.Var x[B,p11] (value -0.0)>,\n",
       " ('B', 'p12'): <gurobi.Var x[B,p12] (value -0.0)>,\n",
       " ('C', 'p1'): <gurobi.Var x[C,p1] (value 0.0)>,\n",
       " ('C', 'p2'): <gurobi.Var x[C,p2] (value -0.0)>,\n",
       " ('C', 'p3'): <gurobi.Var x[C,p3] (value -0.0)>,\n",
       " ('C', 'p4'): <gurobi.Var x[C,p4] (value -0.0)>,\n",
       " ('C', 'p5'): <gurobi.Var x[C,p5] (value -0.0)>,\n",
       " ('C', 'p6'): <gurobi.Var x[C,p6] (value -0.0)>,\n",
       " ('C', 'p7'): <gurobi.Var x[C,p7] (value -0.0)>,\n",
       " ('C', 'p8'): <gurobi.Var x[C,p8] (value -0.0)>,\n",
       " ('C', 'p9'): <gurobi.Var x[C,p9] (value -0.0)>,\n",
       " ('C', 'p10'): <gurobi.Var x[C,p10] (value -0.0)>,\n",
       " ('C', 'p11'): <gurobi.Var x[C,p11] (value 1.0)>,\n",
       " ('C', 'p12'): <gurobi.Var x[C,p12] (value -0.0)>}"
      ]
     },
     "execution_count": 10,
     "metadata": {},
     "output_type": "execute_result"
    }
   ],
   "source": [
    "x"
   ]
  },
  {
   "cell_type": "code",
   "execution_count": 16,
   "id": "2d4df1d1-97bc-4b97-9a2d-391adced1f1c",
   "metadata": {},
   "outputs": [
    {
     "name": "stdout",
     "output_type": "stream",
     "text": [
      "Provide product A to client 31\n",
      "300 500 550 s_11\n",
      "Provide product A to client 129\n",
      "300 500 550 s_11\n",
      "Provide product A to client 140\n",
      "300 500 550 s_11\n",
      "Provide product A to client 31\n",
      "300 500 550 s_12\n",
      "Provide product B to client 36\n",
      "300 500 550 s_12\n",
      "Provide product B to client 124\n",
      "300 500 550 s_12\n",
      "Provide product A to client 129\n",
      "300 500 550 s_12\n",
      "Provide product A to client 140\n",
      "300 500 550 s_12\n",
      "Provide product A to client 143\n",
      "300 500 550 s_12\n",
      "Provide product B to client 147\n",
      "300 500 550 s_12\n",
      "Provide product A to client 155\n",
      "300 500 550 s_12\n",
      "Provide product A to client 159\n",
      "300 500 550 s_12\n",
      "Provide product A to client 170\n",
      "300 500 550 s_12\n",
      "Provide product A to client 179\n",
      "300 500 550 s_12\n",
      "Provide product B to client 188\n",
      "300 500 550 s_12\n",
      "Provide product B to client 124\n",
      "300 500 550 s_13\n",
      "Provide product A to client 140\n",
      "300 500 550 s_13\n",
      "Provide product C to client 155\n",
      "300 500 550 s_13\n",
      "Provide product B to client 188\n",
      "300 500 550 s_13\n",
      "Provide product A to client 189\n",
      "300 500 550 s_13\n",
      "Provide product A to client 31\n",
      "300 500 550 s_14\n",
      "Provide product B to client 36\n",
      "300 500 550 s_14\n",
      "Provide product A to client 155\n",
      "300 500 550 s_14\n",
      "Provide product B to client 159\n",
      "300 500 550 s_14\n",
      "Provide product A to client 170\n",
      "300 500 550 s_14\n",
      "Provide product A to client 189\n",
      "300 500 550 s_14\n"
     ]
    }
   ],
   "source": [
    "\n",
    "for s1 in scenarios_1:\n",
    "    for i in range(sample_size):\n",
    "        for j in products:\n",
    "            for pc in price_comb:\n",
    "                if y[i,j,s1,pc[0],pc[1],pc[2]].x >=0.5:\n",
    "                    print('Provide product {} to client {}'.format(j, i))\n",
    "                    print(price_options[pc[0]], price_options[pc[1]], price_options[pc[2]], s1)\n",
    "#                     for a in accident_type:\n",
    "#                         for s2 in scenarios_2:\n",
    "#                             costs = accidents[s2].loc[i,a] * y[i,j,s1,pc[0],pc[1],pc[2]].x * acc_cost[j][a]\n",
    "#                             print('Under first stage scenario {}, second stage scenario {}'.format(s1, s2))\n",
    "#                             print('Costs of covering customer {}, accident type {} is {}'.format(j,a,costs))"
   ]
  },
  {
   "cell_type": "code",
   "execution_count": 17,
   "id": "24847485-50ce-49bf-9774-9e253a43bd5e",
   "metadata": {},
   "outputs": [
    {
     "data": {
      "text/plain": [
       "767.5"
      ]
     },
     "execution_count": 17,
     "metadata": {},
     "output_type": "execute_result"
    }
   ],
   "source": [
    "m.ObjVal"
   ]
  },
  {
   "cell_type": "code",
   "execution_count": 19,
   "id": "e5df090b-135d-4e55-8124-67499b4f980e",
   "metadata": {},
   "outputs": [
    {
     "data": {
      "text/plain": [
       "4147200"
      ]
     },
     "execution_count": 19,
     "metadata": {},
     "output_type": "execute_result"
    }
   ],
   "source": [
    "12**3  * 200*3*4"
   ]
  }
 ],
 "metadata": {
  "kernelspec": {
   "display_name": "Python 3",
   "language": "python",
   "name": "python3"
  },
  "language_info": {
   "codemirror_mode": {
    "name": "ipython",
    "version": 3
   },
   "file_extension": ".py",
   "mimetype": "text/x-python",
   "name": "python",
   "nbconvert_exporter": "python",
   "pygments_lexer": "ipython3",
   "version": "3.7.6"
  }
 },
 "nbformat": 4,
 "nbformat_minor": 5
}
